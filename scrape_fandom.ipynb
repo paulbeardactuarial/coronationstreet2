{
 "cells": [
  {
   "cell_type": "code",
   "execution_count": 14,
   "id": "3d2d35ba",
   "metadata": {},
   "outputs": [
    {
     "name": "stdout",
     "output_type": "stream",
     "text": [
      "^C\n",
      "Requirement already satisfied: pandas in c:\\users\\paulb\\python\\coronationstreet2\\coronationstreet2\\.venv\\lib\\site-packages (2.2.3)\n",
      "Requirement already satisfied: numpy>=1.26.0 in c:\\users\\paulb\\python\\coronationstreet2\\coronationstreet2\\.venv\\lib\\site-packages (from pandas) (2.2.5)\n",
      "Requirement already satisfied: python-dateutil>=2.8.2 in c:\\users\\paulb\\python\\coronationstreet2\\coronationstreet2\\.venv\\lib\\site-packages (from pandas) (2.9.0.post0)\n",
      "Requirement already satisfied: pytz>=2020.1 in c:\\users\\paulb\\python\\coronationstreet2\\coronationstreet2\\.venv\\lib\\site-packages (from pandas) (2025.2)\n",
      "Requirement already satisfied: tzdata>=2022.7 in c:\\users\\paulb\\python\\coronationstreet2\\coronationstreet2\\.venv\\lib\\site-packages (from pandas) (2025.2)\n",
      "Requirement already satisfied: six>=1.5 in c:\\users\\paulb\\python\\coronationstreet2\\coronationstreet2\\.venv\\lib\\site-packages (from python-dateutil>=2.8.2->pandas) (1.17.0)\n"
     ]
    },
    {
     "name": "stderr",
     "output_type": "stream",
     "text": [
      "\n",
      "[notice] A new release of pip is available: 25.0.1 -> 25.1.1\n",
      "[notice] To update, run: python.exe -m pip install --upgrade pip\n"
     ]
    },
    {
     "name": "stdout",
     "output_type": "stream",
     "text": [
      "Requirement already satisfied: numpy in c:\\users\\paulb\\python\\coronationstreet2\\coronationstreet2\\.venv\\lib\\site-packages (2.2.5)\n"
     ]
    },
    {
     "name": "stderr",
     "output_type": "stream",
     "text": [
      "\n",
      "[notice] A new release of pip is available: 25.0.1 -> 25.1.1\n",
      "[notice] To update, run: python.exe -m pip install --upgrade pip\n"
     ]
    },
    {
     "name": "stdout",
     "output_type": "stream",
     "text": [
      "Requirement already satisfied: requests in c:\\users\\paulb\\python\\coronationstreet2\\coronationstreet2\\.venv\\lib\\site-packages (2.32.3)\n",
      "Requirement already satisfied: charset-normalizer<4,>=2 in c:\\users\\paulb\\python\\coronationstreet2\\coronationstreet2\\.venv\\lib\\site-packages (from requests) (3.4.2)\n",
      "Requirement already satisfied: idna<4,>=2.5 in c:\\users\\paulb\\python\\coronationstreet2\\coronationstreet2\\.venv\\lib\\site-packages (from requests) (3.10)\n",
      "Requirement already satisfied: urllib3<3,>=1.21.1 in c:\\users\\paulb\\python\\coronationstreet2\\coronationstreet2\\.venv\\lib\\site-packages (from requests) (2.4.0)\n",
      "Requirement already satisfied: certifi>=2017.4.17 in c:\\users\\paulb\\python\\coronationstreet2\\coronationstreet2\\.venv\\lib\\site-packages (from requests) (2025.4.26)\n"
     ]
    },
    {
     "name": "stderr",
     "output_type": "stream",
     "text": [
      "\n",
      "[notice] A new release of pip is available: 25.0.1 -> 25.1.1\n",
      "[notice] To update, run: python.exe -m pip install --upgrade pip\n"
     ]
    },
    {
     "name": "stdout",
     "output_type": "stream",
     "text": [
      "Requirement already satisfied: bs4 in c:\\users\\paulb\\python\\coronationstreet2\\coronationstreet2\\.venv\\lib\\site-packages (0.0.2)\n",
      "Requirement already satisfied: beautifulsoup4 in c:\\users\\paulb\\python\\coronationstreet2\\coronationstreet2\\.venv\\lib\\site-packages (from bs4) (4.13.4)\n",
      "Requirement already satisfied: soupsieve>1.2 in c:\\users\\paulb\\python\\coronationstreet2\\coronationstreet2\\.venv\\lib\\site-packages (from beautifulsoup4->bs4) (2.7)\n",
      "Requirement already satisfied: typing-extensions>=4.0.0 in c:\\users\\paulb\\python\\coronationstreet2\\coronationstreet2\\.venv\\lib\\site-packages (from beautifulsoup4->bs4) (4.13.2)\n"
     ]
    },
    {
     "name": "stderr",
     "output_type": "stream",
     "text": [
      "\n",
      "[notice] A new release of pip is available: 25.0.1 -> 25.1.1\n",
      "[notice] To update, run: python.exe -m pip install --upgrade pip\n"
     ]
    }
   ],
   "source": [
    "!pip install pandas\n",
    "!pip install numpy\n",
    "!pip install requests\n",
    "!pip install bs4"
   ]
  },
  {
   "cell_type": "code",
   "execution_count": null,
   "id": "eb10acb7",
   "metadata": {},
   "outputs": [],
   "source": [
    "import requests\n",
    "import pandas as pd\n",
    "from bs4 import BeautifulSoup\n",
    "import string\n",
    "import re\n",
    "from typing import List, Dict, Any\n",
    "import time\n",
    "import os\n"
   ]
  },
  {
   "cell_type": "code",
   "execution_count": null,
   "id": "7c578409",
   "metadata": {},
   "outputs": [],
   "source": [
    "# Function to scrape fandom wiki for list of character names in Coronation St.\n",
    "def scrape_corrie_chr_names(\n",
    "        base_url_letters: str = \"https://coronationstreet.fandom.com/wiki/Category:List_of_main_character_appearances?from=\"\n",
    "):\n",
    "    \"\"\"\n",
    "    Scrapes main character names from the Coronation Street Fandom wiki.\n",
    "\n",
    "    This function iterates through each letter of the English alphabet, appends it\n",
    "    to the base URL to generate a complete category page URL, and scrapes all character\n",
    "    names listed under that page. The function collects and deduplicates the names\n",
    "    before returning them.\n",
    "\n",
    "    Args:\n",
    "        base_url_letters (str): The base URL to which each alphabet letter is appended\n",
    "                                to form the full URL for each character list page.\n",
    "                                Defaults to the Coronation Street Fandom character appearance category.\n",
    "\n",
    "    Returns:\n",
    "        List[str]: A list of unique main character names scraped from the wiki.\n",
    "    \n",
    "    Dependencies:\n",
    "        - requests\n",
    "        - bs4 (BeautifulSoup)\n",
    "        - re\n",
    "        - string\n",
    "    \"\"\"\n",
    "\n",
    "    character_names = []\n",
    "\n",
    "    for letter in string.ascii_uppercase:\n",
    "        char_list_url = f\"{base_url_letters}{letter}\"\n",
    "        response = requests.get(char_list_url)\n",
    "        soup = BeautifulSoup(response.text, 'html.parser')\n",
    "        \n",
    "        for element in soup.select(\".category-page__member-link\"):\n",
    "            name = element.text\n",
    "            name = re.sub(\" - List of appearances\", \"\", name)\n",
    "            character_names.append(name)\n",
    "\n",
    "    character_names = list(set(character_names))\n",
    "\n",
    "    return character_names\n"
   ]
  },
  {
   "cell_type": "code",
   "execution_count": 41,
   "id": "e9183785",
   "metadata": {},
   "outputs": [],
   "source": [
    "# Function to scrape fandom wiki for a single character from the show\n",
    "def scrape_fandom_wiki_single_chr(character, base_url):\n",
    "    \"\"\"\n",
    "    Get dataframe containing information for a single character bio \n",
    "\n",
    "    Args: \n",
    "        character: string (the character from Corrie)\n",
    "        base_url: string (the core url of the wiki)\n",
    "\n",
    "    Returns: \n",
    "        pd.DataFrame object with the information for the Coronation Street character\n",
    "    \"\"\"\n",
    "\n",
    "    char_text = character.replace(\" \", \"_\")\n",
    "    char_bio_url = f\"{base_url}{char_text}\"\n",
    "    \n",
    "    try:\n",
    "        response = requests.get(char_bio_url)\n",
    "        soup = BeautifulSoup(response.text, 'html.parser')\n",
    "        \n",
    "        # Pull the key stats for the character\n",
    "        char_stat = [element.text for element in soup.select(\".pi-secondary-font\")]\n",
    "        if char_stat:  # Remove first element \n",
    "            char_stat = char_stat[1:]\n",
    "            \n",
    "        char_value = [element.text for element in soup.select(\".pi-font\")]\n",
    "        \n",
    "        # Create DataFrame for this character\n",
    "        char_data = pd.DataFrame({\n",
    "            'Field': char_stat,\n",
    "            'Value': char_value\n",
    "        })\n",
    "        \n",
    "        return char_data\n",
    "    except Exception as e:\n",
    "        print(f\"Error scraping {character}: {e}\")\n",
    "        return pd.DataFrame(columns=['Field', 'Value'])"
   ]
  },
  {
   "cell_type": "code",
   "execution_count": null,
   "id": "6408fe70",
   "metadata": {},
   "outputs": [],
   "source": [
    "\n",
    "def scrape_corrie_data():\n",
    "    \"\"\"\n",
    "    Scrape character data from Coronation Street wiki.\n",
    "    \n",
    "    Args:\n",
    "        save_results: Boolean determining whether to save results to CSV file\n",
    "    \n",
    "    Returns:\n",
    "        pandas DataFrame containing character data\n",
    "    \"\"\"\n",
    "    \n",
    "    all_char_names = scrape_corrie_chr_names()\n",
    "    \n",
    "    # Base URL code for scraping character data\n",
    "    base_url_characters = \"https://coronationstreet.fandom.com/wiki/\"\n",
    "    \n",
    "    char_data_dict = {}\n",
    "    \n",
    "    # for character in all_char_names:\n",
    "    #     char_data_dict[character] = scrape_fandom_wiki_single_chr(character, base_url_characters)\n",
    "    #     time.sleep(0.5) # Add a small delay to avoid overloading the server\n",
    "    \n",
    "\n",
    "    char_data_dict = {character: scrape_fandom_wiki_single_chr(character, base_url_characters) for character in all_char_names}\n",
    "\n",
    "    # Combine all DataFrames into one\n",
    "    character_data = pd.concat(char_data_dict, names=['Character']).reset_index(level=0)\n",
    "        \n",
    "    return character_data\n"
   ]
  },
  {
   "cell_type": "code",
   "execution_count": null,
   "id": "878119e6",
   "metadata": {},
   "outputs": [
    {
     "ename": "TypeError",
     "evalue": "scrape_corrie_data() got an unexpected keyword argument 'save_results'",
     "output_type": "error",
     "traceback": [
      "\u001b[31m---------------------------------------------------------------------------\u001b[39m",
      "\u001b[31mTypeError\u001b[39m                                 Traceback (most recent call last)",
      "\u001b[36mCell\u001b[39m\u001b[36m \u001b[39m\u001b[32mIn[43]\u001b[39m\u001b[32m, line 3\u001b[39m\n\u001b[32m      1\u001b[39m \u001b[38;5;66;03m# Example usage\u001b[39;00m\n\u001b[32m      2\u001b[39m \u001b[38;5;28;01mif\u001b[39;00m \u001b[34m__name__\u001b[39m == \u001b[33m\"\u001b[39m\u001b[33m__main__\u001b[39m\u001b[33m\"\u001b[39m:\n\u001b[32m----> \u001b[39m\u001b[32m3\u001b[39m     character_data = \u001b[43mscrape_corrie_data\u001b[49m\u001b[43m(\u001b[49m\u001b[43msave_results\u001b[49m\u001b[43m=\u001b[49m\u001b[38;5;28;43;01mTrue\u001b[39;49;00m\u001b[43m)\u001b[49m\n\u001b[32m      4\u001b[39m     character_data.to_csv(\u001b[33m\"\u001b[39m\u001b[33m./Data/character_data.csv\u001b[39m\u001b[33m\"\u001b[39m, index=\u001b[38;5;28;01mFalse\u001b[39;00m)\n\u001b[32m      5\u001b[39m     \u001b[38;5;28mprint\u001b[39m(character_data.head())\n",
      "\u001b[31mTypeError\u001b[39m: scrape_corrie_data() got an unexpected keyword argument 'save_results'"
     ]
    }
   ],
   "source": [
    "# Example usage\n",
    "if __name__ == \"__main__\":\n",
    "    os.makedirs(\"./Data\", exist_ok=True)\n",
    "    character_data = scrape_corrie_data()\n",
    "    character_data.to_csv(\"./Data/character_data.csv\", index=False)\n",
    "    print(character_data.head())\n",
    "\n"
   ]
  }
 ],
 "metadata": {
  "kernelspec": {
   "display_name": ".venv",
   "language": "python",
   "name": "python3"
  },
  "language_info": {
   "codemirror_mode": {
    "name": "ipython",
    "version": 3
   },
   "file_extension": ".py",
   "mimetype": "text/x-python",
   "name": "python",
   "nbconvert_exporter": "python",
   "pygments_lexer": "ipython3",
   "version": "3.13.3"
  }
 },
 "nbformat": 4,
 "nbformat_minor": 5
}
